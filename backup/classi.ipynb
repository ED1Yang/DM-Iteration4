{
 "cells": [
  {
   "cell_type": "code",
   "execution_count": 1,
   "metadata": {},
   "outputs": [],
   "source": [
    "# Initialize\n",
    "import findspark\n",
    "findspark.init('/home/user/spark-2.1.1-bin-hadoop2.7')\n",
    "import pyspark\n",
    "from pyspark.sql import SparkSession\n",
    "spark = SparkSession.builder.appName('Iteration4clas').getOrCreate()\n",
    "\n",
    "# load Data\n",
    "df = spark.read.csv('source/final-data.csv',header=True,inferSchema=True)\n",
    "df=df.select('RA','SN','TS','FG','AQI Quality')"
   ]
  },
  {
   "cell_type": "markdown",
   "metadata": {},
   "source": [
    "### classification\n",
    "    decision tree classifier"
   ]
  },
  {
   "cell_type": "code",
   "execution_count": 2,
   "metadata": {},
   "outputs": [],
   "source": [
    "# Import VectorAssembler and Vectors\n",
    "from pyspark.ml.feature import (VectorAssembler,StringIndexer)"
   ]
  },
  {
   "cell_type": "code",
   "execution_count": 3,
   "metadata": {},
   "outputs": [],
   "source": [
    "# create a string indexer which converts every string into a number.\n",
    "# A number will be assigned to every category in the column.\n",
    "aqi_indexer = StringIndexer(inputCol='AQI Quality',outputCol='label')\n",
    "\n"
   ]
  },
  {
   "cell_type": "code",
   "execution_count": 4,
   "metadata": {},
   "outputs": [],
   "source": [
    "# use vector assembler to turn all of these columns into one column (named features).\n",
    "assemblerMlr = VectorAssembler(inputCols=['RA','SN','TS','FG'], outputCol=\"features\")"
   ]
  },
  {
   "cell_type": "code",
   "execution_count": 5,
   "metadata": {
    "scrolled": true
   },
   "outputs": [
    {
     "name": "stdout",
     "output_type": "stream",
     "text": [
      "+---+---+---+---+-------------------+-----+-----------------+\n",
      "| RA| SN| TS| FG|        AQI Quality|label|         features|\n",
      "+---+---+---+---+-------------------+-----+-----------------+\n",
      "|  0|  0|  0|  0|               Good|  0.0|        (4,[],[])|\n",
      "|  0|  0|  0|  0|               Good|  0.0|        (4,[],[])|\n",
      "|  0|  0|  0|  0|Moderately Polluted|  3.0|        (4,[],[])|\n",
      "|  0|  0|  0|  0|   Heavily Polluted|  4.0|        (4,[],[])|\n",
      "|  0|  0|  0|  0|Moderately Polluted|  3.0|        (4,[],[])|\n",
      "|  0|  0|  0|  0|               Good|  0.0|        (4,[],[])|\n",
      "|  0|  0|  0|  0|               Good|  0.0|        (4,[],[])|\n",
      "|  0|  0|  0|  0|Moderately Polluted|  3.0|        (4,[],[])|\n",
      "|  0|  0|  0|  0|               Good|  0.0|        (4,[],[])|\n",
      "|  0|  0|  0|  0|Moderately Polluted|  3.0|        (4,[],[])|\n",
      "|  0|  0|  0|  0|               Good|  0.0|        (4,[],[])|\n",
      "|  0|  0|  0|  0|Moderately Polluted|  3.0|        (4,[],[])|\n",
      "|  0|  0|  0|  0|   Heavily Polluted|  4.0|        (4,[],[])|\n",
      "|  0|  1|  0|  1|   Heavily Polluted|  4.0|[0.0,1.0,0.0,1.0]|\n",
      "|  0|  0|  0|  1|  Severely Polluted|  5.0|    (4,[3],[1.0])|\n",
      "|  0|  0|  0|  0|   Lightly Polluted|  2.0|        (4,[],[])|\n",
      "|  0|  0|  0|  0|               Good|  0.0|        (4,[],[])|\n",
      "|  0|  0|  0|  0|   Lightly Polluted|  2.0|        (4,[],[])|\n",
      "|  0|  0|  0|  0|               Good|  0.0|        (4,[],[])|\n",
      "|  0|  0|  0|  0|   Lightly Polluted|  2.0|        (4,[],[])|\n",
      "+---+---+---+---+-------------------+-----+-----------------+\n",
      "only showing top 20 rows\n",
      "\n"
     ]
    }
   ],
   "source": [
    "from pyspark.ml import Pipeline\n",
    "\n",
    "# Then go through our steps. It's essentially sequential to the above.\n",
    "pipeline = Pipeline(stages=[aqi_indexer,assemblerMlr])\n",
    "\n",
    "# Now that we've got a number of steps, let's apply it to the DataFrame.\n",
    "pipeline_model = pipeline.fit(df)\n",
    "\n",
    "# Incorporate results into a new DataFrame.\n",
    "pipe_df = pipeline_model.transform(df)\n",
    "pipe_df.show()\n"
   ]
  },
  {
   "cell_type": "code",
   "execution_count": 6,
   "metadata": {},
   "outputs": [
    {
     "name": "stdout",
     "output_type": "stream",
     "text": [
      "+----------+------------+---------+\n",
      "|prediction|indexedLabel| features|\n",
      "+----------+------------+---------+\n",
      "|       0.0|         1.0|(4,[],[])|\n",
      "|       0.0|         1.0|(4,[],[])|\n",
      "|       0.0|         1.0|(4,[],[])|\n",
      "|       0.0|         1.0|(4,[],[])|\n",
      "|       0.0|         1.0|(4,[],[])|\n",
      "+----------+------------+---------+\n",
      "only showing top 5 rows\n",
      "\n",
      "Test Error = 0.624277 \n",
      "DecisionTreeClassificationModel (uid=DecisionTreeClassifier_434ba343ecbd0ca6d8ec) of depth 4 with 21 nodes\n"
     ]
    }
   ],
   "source": [
    "from pyspark.ml import Pipeline\n",
    "from pyspark.ml.classification import DecisionTreeClassifier\n",
    "from pyspark.ml.feature import StringIndexer, VectorIndexer\n",
    "from pyspark.ml.evaluation import MulticlassClassificationEvaluator\n",
    "\n",
    "# Index labels, adding metadata to the label column.\n",
    "# Fit on whole dataset to include all labels in index.\n",
    "labelIndexer = StringIndexer(inputCol=\"AQI Quality\", outputCol=\"indexedLabel\").fit(pipe_df)\n",
    "# Automatically identify categorical features, and index them.\n",
    "# We specify maxCategories so features with > 4 distinct values are treated as continuous.\n",
    "featureIndexer =\\\n",
    "    VectorIndexer(inputCol=\"features\", outputCol=\"indexedFeatures\", maxCategories=4).fit(pipe_df)\n",
    "\n",
    "# Split the data into training and test sets (30% held out for testing)\n",
    "(trainingData, testData) = pipe_df.randomSplit([0.7, 0.3])\n",
    "\n",
    "# Train a DecisionTree model.\n",
    "dt = DecisionTreeClassifier(labelCol=\"indexedLabel\", featuresCol=\"indexedFeatures\")\n",
    "\n",
    "# Chain indexers and tree in a Pipeline\n",
    "pipeline = Pipeline(stages=[labelIndexer, featureIndexer, dt])\n",
    "\n",
    "# Train model.  This also runs the indexers.\n",
    "model = pipeline.fit(trainingData)\n",
    "\n",
    "# Make predictions.\n",
    "predictions = model.transform(testData)\n",
    "\n",
    "# Select example rows to display.\n",
    "predictions.select(\"prediction\", \"indexedLabel\", \"features\").show(5)\n",
    "\n",
    "# Select (prediction, true label) and compute test error\n",
    "evaluator = MulticlassClassificationEvaluator(\n",
    "    labelCol=\"indexedLabel\", predictionCol=\"prediction\", metricName=\"accuracy\")\n",
    "accuracy = evaluator.evaluate(predictions)\n",
    "print(\"Test Error = %g \" % (1.0 - accuracy))\n",
    "\n",
    "treeModel = model.stages[2]\n",
    "# summary only\n",
    "print(treeModel)"
   ]
  },
  {
   "cell_type": "markdown",
   "metadata": {},
   "source": [
    "#### patterns for Severly polluted AQI Quality"
   ]
  },
  {
   "cell_type": "code",
   "execution_count": 7,
   "metadata": {
    "scrolled": true
   },
   "outputs": [
    {
     "name": "stdout",
     "output_type": "stream",
     "text": [
      "+-------+-------------------+--------------------+-------------------+--------------------+\n",
      "|summary|                 RA|                  SN|                 TS|                  FG|\n",
      "+-------+-------------------+--------------------+-------------------+--------------------+\n",
      "|  count|                405|                 405|                405|                 405|\n",
      "|   mean|0.30864197530864196|0.024691358024691357|0.09876543209876543|0.024691358024691357|\n",
      "| stddev| 0.4625043566463787| 0.15537471808241782| 0.2987158270610311| 0.15537471808241785|\n",
      "|    min|                  0|                   0|                  0|                   0|\n",
      "|    max|                  1|                   1|                  1|                   1|\n",
      "+-------+-------------------+--------------------+-------------------+--------------------+\n",
      "\n"
     ]
    }
   ],
   "source": [
    "pipe1=pipe_df.filter('label=0')\n",
    "pipe1.select('RA','SN','TS','FG').describe().show()"
   ]
  },
  {
   "cell_type": "code",
   "execution_count": 8,
   "metadata": {},
   "outputs": [
    {
     "name": "stdout",
     "output_type": "stream",
     "text": [
      "+-------+-------------------+-------------------+--------------------+--------------------+\n",
      "|summary|                 RA|                 SN|                  TS|                  FG|\n",
      "+-------+-------------------+-------------------+--------------------+--------------------+\n",
      "|  count|                266|                266|                 266|                 266|\n",
      "|   mean|0.21428571428571427|0.02631578947368421|0.041353383458646614|0.003759398496240...|\n",
      "| stddev| 0.4110993741393795|0.16037443773261875| 0.19948152401280497| 0.06131393394849658|\n",
      "|    min|                  0|                  0|                   0|                   0|\n",
      "|    max|                  1|                  1|                   1|                   1|\n",
      "+-------+-------------------+-------------------+--------------------+--------------------+\n",
      "\n"
     ]
    }
   ],
   "source": [
    "pipe1=pipe_df.filter('label=1')\n",
    "pipe1.select('RA','SN','TS','FG').describe().show()"
   ]
  },
  {
   "cell_type": "code",
   "execution_count": 9,
   "metadata": {},
   "outputs": [
    {
     "name": "stdout",
     "output_type": "stream",
     "text": [
      "+-------+-------------------+-------------------+-------------------+-------------------+\n",
      "|summary|                 RA|                 SN|                 TS|                 FG|\n",
      "+-------+-------------------+-------------------+-------------------+-------------------+\n",
      "|  count|                221|                221|                221|                221|\n",
      "|   mean|0.25339366515837103|0.02262443438914027|0.09954751131221719|0.04072398190045249|\n",
      "| stddev| 0.4359417952763628| 0.1490405348776313| 0.3000754053046972|0.19809873758140187|\n",
      "|    min|                  0|                  0|                  0|                  0|\n",
      "|    max|                  1|                  1|                  1|                  1|\n",
      "+-------+-------------------+-------------------+-------------------+-------------------+\n",
      "\n"
     ]
    }
   ],
   "source": [
    "pipe1=pipe_df.filter('label=2')\n",
    "pipe1.select('RA','SN','TS','FG').describe().show()"
   ]
  },
  {
   "cell_type": "code",
   "execution_count": 10,
   "metadata": {},
   "outputs": [
    {
     "name": "stdout",
     "output_type": "stream",
     "text": [
      "+-------+-------------------+-------------------+-------------------+-------------------+\n",
      "|summary|                 RA|                 SN|                 TS|                 FG|\n",
      "+-------+-------------------+-------------------+-------------------+-------------------+\n",
      "|  count|                103|                103|                103|                103|\n",
      "|   mean|0.36893203883495146|0.06796116504854369| 0.1262135922330097|0.10679611650485436|\n",
      "| stddev| 0.4848749841329817|0.25290996314390796|0.33371385096103495| 0.3103641554760769|\n",
      "|    min|                  0|                  0|                  0|                  0|\n",
      "|    max|                  1|                  1|                  1|                  1|\n",
      "+-------+-------------------+-------------------+-------------------+-------------------+\n",
      "\n"
     ]
    }
   ],
   "source": [
    "pipe1=pipe_df.filter('label=3')\n",
    "pipe1.select('RA','SN','TS','FG').describe().show()"
   ]
  },
  {
   "cell_type": "code",
   "execution_count": 11,
   "metadata": {},
   "outputs": [
    {
     "name": "stdout",
     "output_type": "stream",
     "text": [
      "+-------+-------------------+-------------------+--------------------+-------------------+\n",
      "|summary|                 RA|                 SN|                  TS|                 FG|\n",
      "+-------+-------------------+-------------------+--------------------+-------------------+\n",
      "|  count|                 68|                 68|                  68|                 68|\n",
      "|   mean|0.22058823529411764|0.08823529411764706|0.014705882352941176| 0.4264705882352941|\n",
      "| stddev| 0.4177261916648386| 0.2857456398198083|  0.1212678125181665|0.49824097959612124|\n",
      "|    min|                  0|                  0|                   0|                  0|\n",
      "|    max|                  1|                  1|                   1|                  1|\n",
      "+-------+-------------------+-------------------+--------------------+-------------------+\n",
      "\n"
     ]
    }
   ],
   "source": [
    "pipe1=pipe_df.filter('label=4')\n",
    "pipe1.select('RA','SN','TS','FG').describe().show()"
   ]
  },
  {
   "cell_type": "code",
   "execution_count": 12,
   "metadata": {},
   "outputs": [
    {
     "name": "stdout",
     "output_type": "stream",
     "text": [
      "+-------+---+-------------------+---+-------------------+\n",
      "|summary| RA|                 SN| TS|                 FG|\n",
      "+-------+---+-------------------+---+-------------------+\n",
      "|  count| 27|                 27| 27|                 27|\n",
      "|   mean|0.0|0.18518518518518517|0.0| 0.7037037037037037|\n",
      "| stddev|0.0| 0.3958473906635695|0.0|0.46532162696807516|\n",
      "|    min|  0|                  0|  0|                  0|\n",
      "|    max|  0|                  1|  0|                  1|\n",
      "+-------+---+-------------------+---+-------------------+\n",
      "\n"
     ]
    }
   ],
   "source": [
    "pipe1=pipe_df.filter('label=5')\n",
    "pipe1.select('RA','SN','TS','FG').describe().show()"
   ]
  },
  {
   "cell_type": "code",
   "execution_count": 13,
   "metadata": {},
   "outputs": [],
   "source": [
    "#  visualize"
   ]
  },
  {
   "cell_type": "code",
   "execution_count": 38,
   "metadata": {
    "scrolled": true
   },
   "outputs": [
    {
     "data": {
      "text/plain": [
       "[Row(AQI Quality='Excellent', count=57),\n",
       " Row(AQI Quality='Lightly Polluted', count=56),\n",
       " Row(AQI Quality='Heavily Polluted', count=15),\n",
       " Row(AQI Quality='Good', count=125),\n",
       " Row(AQI Quality='Moderately Polluted', count=38)]"
      ]
     },
     "execution_count": 38,
     "metadata": {},
     "output_type": "execute_result"
    }
   ],
   "source": [
    "#  count days of factors of different AQI:\n",
    "g1=df.filter('RA=1').groupBy('AQI Quality').count()\n",
    "g2=df.filter('SN=1').groupBy('AQI Quality').count()\n",
    "g3=df.filter('TS=1').groupBy('AQI Quality').count()\n",
    "g4=df.filter('FG=1').groupBy('AQI Quality').count()\n",
    "\n",
    "# print them out\n",
    "g1.head(6)"
   ]
  },
  {
   "cell_type": "code",
   "execution_count": 39,
   "metadata": {},
   "outputs": [
    {
     "data": {
      "text/plain": [
       "[Row(AQI Quality='Excellent', count=7),\n",
       " Row(AQI Quality='Lightly Polluted', count=5),\n",
       " Row(AQI Quality='Heavily Polluted', count=6),\n",
       " Row(AQI Quality='Good', count=10),\n",
       " Row(AQI Quality='Severely Polluted', count=5),\n",
       " Row(AQI Quality='Moderately Polluted', count=7)]"
      ]
     },
     "execution_count": 39,
     "metadata": {},
     "output_type": "execute_result"
    }
   ],
   "source": [
    "g2.head(6)"
   ]
  },
  {
   "cell_type": "code",
   "execution_count": 40,
   "metadata": {},
   "outputs": [
    {
     "data": {
      "text/plain": [
       "[Row(AQI Quality='Excellent', count=11),\n",
       " Row(AQI Quality='Lightly Polluted', count=22),\n",
       " Row(AQI Quality='Heavily Polluted', count=1),\n",
       " Row(AQI Quality='Good', count=40),\n",
       " Row(AQI Quality='Moderately Polluted', count=13)]"
      ]
     },
     "execution_count": 40,
     "metadata": {},
     "output_type": "execute_result"
    }
   ],
   "source": [
    "g3.head(6)"
   ]
  },
  {
   "cell_type": "code",
   "execution_count": 41,
   "metadata": {},
   "outputs": [
    {
     "data": {
      "text/plain": [
       "[Row(AQI Quality='Excellent', count=1),\n",
       " Row(AQI Quality='Lightly Polluted', count=9),\n",
       " Row(AQI Quality='Heavily Polluted', count=29),\n",
       " Row(AQI Quality='Good', count=10),\n",
       " Row(AQI Quality='Severely Polluted', count=19),\n",
       " Row(AQI Quality='Moderately Polluted', count=11)]"
      ]
     },
     "execution_count": 41,
     "metadata": {},
     "output_type": "execute_result"
    }
   ],
   "source": [
    "g4.head(6)"
   ]
  },
  {
   "cell_type": "code",
   "execution_count": 4,
   "metadata": {},
   "outputs": [],
   "source": [
    "# get packages for visualization \n",
    "import pandas as pd\n",
    "import numpy as np\n",
    "import matplotlib.pyplot as plt"
   ]
  },
  {
   "cell_type": "code",
   "execution_count": 5,
   "metadata": {},
   "outputs": [
    {
     "data": {
      "text/html": [
       "<div>\n",
       "<style scoped>\n",
       "    .dataframe tbody tr th:only-of-type {\n",
       "        vertical-align: middle;\n",
       "    }\n",
       "\n",
       "    .dataframe tbody tr th {\n",
       "        vertical-align: top;\n",
       "    }\n",
       "\n",
       "    .dataframe thead th {\n",
       "        text-align: right;\n",
       "    }\n",
       "</style>\n",
       "<table border=\"1\" class=\"dataframe\">\n",
       "  <thead>\n",
       "    <tr style=\"text-align: right;\">\n",
       "      <th></th>\n",
       "      <th>mtype</th>\n",
       "      <th>Excellent</th>\n",
       "      <th>Good</th>\n",
       "      <th>Light</th>\n",
       "      <th>Moderate</th>\n",
       "      <th>Heavy</th>\n",
       "      <th>Severe</th>\n",
       "    </tr>\n",
       "  </thead>\n",
       "  <tbody>\n",
       "    <tr>\n",
       "      <th>0</th>\n",
       "      <td>RA</td>\n",
       "      <td>57</td>\n",
       "      <td>125</td>\n",
       "      <td>56</td>\n",
       "      <td>38</td>\n",
       "      <td>15</td>\n",
       "      <td>0</td>\n",
       "    </tr>\n",
       "    <tr>\n",
       "      <th>1</th>\n",
       "      <td>SN</td>\n",
       "      <td>7</td>\n",
       "      <td>10</td>\n",
       "      <td>5</td>\n",
       "      <td>7</td>\n",
       "      <td>6</td>\n",
       "      <td>5</td>\n",
       "    </tr>\n",
       "    <tr>\n",
       "      <th>2</th>\n",
       "      <td>TS</td>\n",
       "      <td>11</td>\n",
       "      <td>40</td>\n",
       "      <td>22</td>\n",
       "      <td>13</td>\n",
       "      <td>1</td>\n",
       "      <td>0</td>\n",
       "    </tr>\n",
       "    <tr>\n",
       "      <th>3</th>\n",
       "      <td>FG</td>\n",
       "      <td>1</td>\n",
       "      <td>10</td>\n",
       "      <td>9</td>\n",
       "      <td>11</td>\n",
       "      <td>29</td>\n",
       "      <td>19</td>\n",
       "    </tr>\n",
       "  </tbody>\n",
       "</table>\n",
       "</div>"
      ],
      "text/plain": [
       "  mtype  Excellent  Good  Light  Moderate  Heavy  Severe\n",
       "0    RA         57   125     56        38     15       0\n",
       "1    SN          7    10      5         7      6       5\n",
       "2    TS         11    40     22        13      1       0\n",
       "3    FG          1    10      9        11     29      19"
      ]
     },
     "execution_count": 5,
     "metadata": {},
     "output_type": "execute_result"
    }
   ],
   "source": [
    "mdata = {'mtype': ['RA', 'SN', 'TS', 'FG'],\n",
    "        'Excellent': [57, 7, 11, 1],\n",
    "        'Good': [125, 10, 40, 10],\n",
    "        'Light': [56, 5, 22, 9],\n",
    "        'Moderate': [38, 7, 13, 11],\n",
    "        'Heavy': [15, 6, 1, 29],\n",
    "        'Severe': [0, 5, 0, 19]}\n",
    "dfm = pd.DataFrame(mdata, columns = ['mtype', 'Excellent', 'Good', 'Light', 'Moderate', 'Heavy', 'Severe'])\n",
    "dfm"
   ]
  },
  {
   "cell_type": "code",
   "execution_count": 8,
   "metadata": {},
   "outputs": [
    {
     "data": {
      "image/png": "[encoded data removed]",
      "text/plain": [
       "<Figure size 720x360 with 1 Axes>"
      ]
     },
     "metadata": {},
     "output_type": "display_data"
    }
   ],
   "source": [
    "# Setting the positions and width for the bars\n",
    "pos = list(range(len(dfm['Excellent']))) \n",
    "width = 0.15 \n",
    "    \n",
    "# Plotting the bars\n",
    "fig, ax = plt.subplots(figsize=(10,5))\n",
    "\n",
    "# Create a bar with Excellent data,\n",
    "# in position pos,\n",
    "plt.bar(pos, \n",
    "        dfm['Excellent'], \n",
    "        # of width\n",
    "        width, \n",
    "        # with alpha 0.5\n",
    "        alpha=0.5, \n",
    "        # with color\n",
    "        color='#58D68D', \n",
    "        label=dfm['mtype'][0]) \n",
    "\n",
    "# Create a bar with Good data,\n",
    "# in position pos,\n",
    "plt.bar([p + width for p in pos], \n",
    "        dfm['Good'], \n",
    "        # of width\n",
    "        width, \n",
    "        # with alpha 0.5\n",
    "        alpha=0.5, \n",
    "        # with color\n",
    "        color='#F4D03F', \n",
    "        label=dfm['mtype'][0]) \n",
    "\n",
    "# Create a bar with Light data,\n",
    "# in position pos,\n",
    "plt.bar([p + width*2 for p in pos], \n",
    "        dfm['Light'], \n",
    "        # of width\n",
    "        width, \n",
    "        # with alpha 0.5\n",
    "        alpha=0.5, \n",
    "        # with color\n",
    "        color='#F5B041',\n",
    "        label=dfm['mtype'][1]) \n",
    "\n",
    "\n",
    "# Create a bar with Moderate data,\n",
    "# in position pos,\n",
    "plt.bar([p + width*3 for p in pos], \n",
    "        dfm['Moderate'], \n",
    "        # of width\n",
    "        width, \n",
    "        # with alpha 0.5\n",
    "        alpha=0.5, \n",
    "        # with color\n",
    "        color='#DC7633', \n",
    "        label=dfm['mtype'][1]) \n",
    "\n",
    "# Create a bar with Heavy data,\n",
    "# in position pos,\n",
    "plt.bar([p + width*4 for p in pos], \n",
    "        dfm['Heavy'], \n",
    "        # of width\n",
    "        width, \n",
    "        # with alpha 0.5\n",
    "        alpha=0.5, \n",
    "        # with color\n",
    "        color='#EC7063', \n",
    "        # with label the first value in first_name\n",
    "        label=dfm['mtype'][2]) \n",
    "\n",
    "\n",
    "# Create a bar with Severe data,\n",
    "# in position pos,\n",
    "plt.bar([p + width*5 for p in pos], \n",
    "        dfm['Severe'], \n",
    "        # of width\n",
    "        width, \n",
    "        # with alpha 0.5\n",
    "        alpha=0.5, \n",
    "        # with color\n",
    "        color='#A569BD', \n",
    "        # with label the first value in first_name\n",
    "        label=dfm['mtype'][2]) \n",
    "\n",
    "\n",
    "# Set the y axis label\n",
    "ax.set_ylabel('Days')\n",
    "\n",
    "# Set the chart's title\n",
    "ax.set_title('AQI distribution for each meteorological factor')\n",
    "\n",
    "# Set the position of the x ticks\n",
    "ax.set_xticks([p + 1.5 * width for p in pos])\n",
    "\n",
    "# Set the labels for the x ticks\n",
    "ax.set_xticklabels(dfm['mtype'])\n",
    "\n",
    "# Setting the x-axis and y-axis limits\n",
    "plt.xlim(min(pos)-width, max(pos)+width*6)\n",
    "plt.ylim([0, max(dfm['Excellent']+ dfm['Good']+ dfm['Light']+ dfm['Moderate']+ dfm['Heavy']+ dfm['Severe'])] )\n",
    "\n",
    "# Adding the legend and showing the plot\n",
    "plt.legend(['Excellent', 'Good', 'Light','Moderate','Heavy','Severe'], loc='upper right')\n",
    "plt.grid()\n",
    "plt.show()"
   ]
  }
 ],
 "metadata": {
  "kernelspec": {
   "display_name": "Python 3",
   "language": "python",
   "name": "python3"
  },
  "language_info": {
   "codemirror_mode": {
    "name": "ipython",
    "version": 3
   },
   "file_extension": ".py",
   "mimetype": "text/x-python",
   "name": "python",
   "nbconvert_exporter": "python",
   "pygments_lexer": "ipython3",
   "version": "3.6.5"
  }
 },
 "nbformat": 4,
 "nbformat_minor": 2
}
