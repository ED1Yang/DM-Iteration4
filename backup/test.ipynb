{
 "cells": [
  {
   "cell_type": "code",
   "execution_count": null,
   "metadata": {},
   "outputs": [],
   "source": [
    "# Initialize\n",
    "import findspark\n",
    "findspark.init('/home/ubuntu/spark-2.1.1-bin-hadoop2.7')\n",
    "import pyspark\n",
    "from pyspark.sql import SparkSession\n",
    "spark = SparkSession.builder.appName('basics').getOrCreate()\n",
    "\n",
    "# load Data\n",
    "\n",
    "import pandas as pd\n",
    "dp = pd.read_csv('source/raw-data.csv')\n",
    "df = spark.read.csv('source/raw-data.csv',header=True,inferSchema=True)"
   ]
  },
  {
   "cell_type": "code",
   "execution_count": null,
   "metadata": {},
   "outputs": [],
   "source": []
  },
  {
   "cell_type": "code",
   "execution_count": null,
   "metadata": {},
   "outputs": [],
   "source": [
    "# df.select('RA').fillna(0).show()\n",
    "from pyspark.sql.functions import when   \n",
    "# df.withColumn('RA', when(df.RA.isNotNull(), 1)).withColumn('RA', when(df.RA.isNull(), 0))\n",
    "df.select('SN').show()\n",
    "\n",
    "# df.select('RA').replace('o',1)\n",
    "\n",
    "\n",
    "# # df.select('RA').show()\n",
    "# filled_df = df.select('RA').na.fill(0, subset=['marital'])\n",
    "# # filled_df.show()\n",
    "# df1=df.na.fill({'SN': 'null', 'SN': 0})\n",
    "# df2=df1.replace({'SN': 'o', 'SN': 1,})\n",
    "\n",
    "# df.select('SN').show()\n",
    "\n",
    "df2 = df.select('SN').replace(o,1)\n",
    "#   .withColumn('c2', when(df.c2.isNotNull(), 1))\n",
    "#   .withColumn('c3', when(df.c3.isNotNull(), 1))\n",
    "\n",
    "# from pyspark.sql.functions import *\n",
    "# df1 = df.withColumn('SN', regexp_replace('SN', 'null', 0))\n",
    "# df1 = df.withColumn('SN', regexp_replace('SN', 'o', 1))\n",
    "df2.select('SN').show()\n"
   ]
  }
 ],
 "metadata": {
  "kernelspec": {
   "display_name": "Python 3",
   "language": "python",
   "name": "python3"
  },
  "language_info": {
   "codemirror_mode": {
    "name": "ipython",
    "version": 3
   },
   "file_extension": ".py",
   "mimetype": "text/x-python",
   "name": "python",
   "nbconvert_exporter": "python",
   "pygments_lexer": "ipython3",
   "version": "3.5.2"
  }
 },
 "nbformat": 4,
 "nbformat_minor": 2
}
