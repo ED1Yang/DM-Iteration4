{
 "cells": [
  {
   "cell_type": "markdown",
   "metadata": {},
   "source": [
    "# Iteration4-BDAS\n",
    "\n"
   ]
  },
  {
   "cell_type": "code",
   "execution_count": 2,
   "metadata": {},
   "outputs": [],
   "source": [
    "# Initialize\n",
    "import findspark\n",
    "findspark.init('/home/user/spark-2.1.1-bin-hadoop2.7')\n",
    "import pyspark\n",
    "from pyspark.sql import SparkSession\n",
    "spark = SparkSession.builder.appName('Iteration4').getOrCreate()\n",
    "\n",
    "# load Data\n",
    "df = spark.read.csv('source/raw-data.csv',header=True,inferSchema=True)"
   ]
  },
  {
   "cell_type": "markdown",
   "metadata": {},
   "source": [
    "## 2.4 Verify the data quality"
   ]
  },
  {
   "cell_type": "code",
   "execution_count": 3,
   "metadata": {},
   "outputs": [
    {
     "name": "stdout",
     "output_type": "stream",
     "text": [
      "root\n",
      " |-- Month: string (nullable = true)\n",
      " |-- Day: integer (nullable = true)\n",
      " |-- T: string (nullable = true)\n",
      " |-- TM3: string (nullable = true)\n",
      " |-- Tm4: string (nullable = true)\n",
      " |-- SLP: string (nullable = true)\n",
      " |-- H: string (nullable = true)\n",
      " |-- PP: string (nullable = true)\n",
      " |-- VV: string (nullable = true)\n",
      " |-- V: string (nullable = true)\n",
      " |-- VM: string (nullable = true)\n",
      " |-- VG: string (nullable = true)\n",
      " |-- RA: string (nullable = true)\n",
      " |-- SN: string (nullable = true)\n",
      " |-- TS: string (nullable = true)\n",
      " |-- FG: string (nullable = true)\n",
      " |-- Date: string (nullable = true)\n",
      " |-- AQI Quality: string (nullable = true)\n",
      " |-- AQI: integer (nullable = true)\n",
      " |-- AQI Ranking: integer (nullable = true)\n",
      " |-- PM25: integer (nullable = true)\n",
      " |-- PM10: integer (nullable = true)\n",
      " |-- So2: integer (nullable = true)\n",
      " |-- No2: integer (nullable = true)\n",
      " |-- Co: double (nullable = true)\n",
      " |-- O3: integer (nullable = true)\n",
      "\n",
      "rows: 1096 columns: 26\n"
     ]
    }
   ],
   "source": [
    "# visualise the data structure\n",
    "df.printSchema()\n",
    "print('rows:',(df.count()), 'columns:',(len(df.columns)))"
   ]
  },
  {
   "cell_type": "code",
   "execution_count": 4,
   "metadata": {
    "scrolled": false
   },
   "outputs": [
    {
     "name": "stdout",
     "output_type": "stream",
     "text": [
      "meteorological data\n",
      "+------+---+----+---+----+---+---+---+---+----+----+----+----+----+----+----+----+\n",
      "| Month|Day|   T|TM3| Tm4|SLP|  H| PP| VV|   V|  VM|  VG|  RA|  SN|  TS|  FG|PM25|\n",
      "+------+---+----+---+----+---+---+---+---+----+----+----+----+----+----+----+----+\n",
      "|Jan-15|  1|-3.2|2.5| -10|  -| 25|  0|6.4| 9.1|  18|   -|null|null|null|null|  41|\n",
      "|Jan-15|  2|-1.5|  5|  -8|  -| 30|  0|  6|   8|14.4|   -|null|null|null|null|  48|\n",
      "|Jan-15|  3|-3.1|3.6|  -8|  -| 45|  0|  5| 5.4|14.4|   -|null|null|null|null| 148|\n",
      "|Jan-15|  4| 2.2|8.6|  -7|  -| 37|  0|4.3| 5.6|10.7|   -|null|null|null|null| 173|\n",
      "|Jan-15|  5| 1.7| 11|  -6|  -| 22|  0|4.2|  20|39.6|50.4|null|null|null|null| 106|\n",
      "|Jan-15|  6|-1.1|  6|  -8|  -| 23|  0|9.5|10.7|25.2|28.7|null|null|null|null|  34|\n",
      "|Jan-15|  7|-2.6|3.3| -11|  -| 39|  0|6.1| 4.3|10.7|   -|null|null|null|null|  61|\n",
      "|Jan-15|  8|-2.5|  5|  -8|  -| 50|  0|6.3| 7.8|  18|   -|null|null|null|null| 124|\n",
      "|Jan-15|  9|-0.9|7.5| -10|  -| 32|  0|  8| 9.8|32.4|43.2|null|null|null|null|  73|\n",
      "|Jan-15| 10| 4.8| 13|  -8|  -| 22|  0|6.1|  15|35.9|53.9|null|null|null|null| 146|\n",
      "|Jan-15| 11| 0.6|6.5|  -7|  -| 36|  0|7.6| 6.5|10.7|   -|null|null|null|null|  37|\n",
      "|Jan-15| 12|-2.3|4.2|  -7|  -| 55|  0|5.5| 6.3|14.4|   -|null|null|null|null| 116|\n",
      "|Jan-15| 13|-2.6|3.1|  -7|  -| 69|  0|  4| 5.6|10.7|   -|null|null|null|null| 155|\n",
      "|Jan-15| 14|-3.1|  1|  -8|  -| 65|  0|3.7| 5.7|14.4|   -|null|   o|null|   o| 213|\n",
      "|Jan-15| 15|-3.5|  0|  -7|  -| 81|  0|1.3| 4.3|25.2|   -|null|null|null|   o| 328|\n",
      "|Jan-15| 16|-1.4|  4|  -7|  -| 28|  0|  -|25.4|50.4|68.3|null|null|null|null| 111|\n",
      "|Jan-15| 17|-1.9|  3|-6.8|  -| 38|  0|7.2| 5.4|14.4|25.2|null|null|null|null|  59|\n",
      "|Jan-15| 18| 0.4|  7| -10|  -| 32|  0|4.3|18.5|46.9|68.3|null|null|null|null|  68|\n",
      "|Jan-15| 19|-0.9|6.7|  -9|  -| 40|  0|  8| 6.9|14.4|   -|null|null|null|null|  42|\n",
      "|Jan-15| 20|-0.8|  5|  -7|  -| 50|  0|6.9| 8.3|  18|   -|null|null|null|null|  84|\n",
      "+------+---+----+---+----+---+---+---+---+----+----+----+----+----+----+----+----+\n",
      "only showing top 20 rows\n",
      "\n",
      "aqi data\n",
      "+--------+-------------------+---+-----------+----+----+---+---+----+---+\n",
      "|    Date|        AQI Quality|AQI|AQI Ranking|PM25|PM10|So2|No2|  Co| O3|\n",
      "+--------+-------------------+---+-----------+----+----+---+---+----+---+\n",
      "| 1/01/15|               Good| 61|         84|  41|  66| 23| 49|1.09| 29|\n",
      "| 2/01/15|               Good| 69|        172|  48|  78| 30| 58|1.28| 23|\n",
      "| 3/01/15|Moderately Polluted|194|        322| 148| 193| 66|100|3.24|  8|\n",
      "| 4/01/15|   Heavily Polluted|217|        286| 173| 224| 74|119|3.67| 12|\n",
      "| 5/01/15|Moderately Polluted|154|        216| 106| 156| 57| 70|2.89| 30|\n",
      "| 6/01/15|               Good| 53|         90|  34|  51| 22| 40| 0.8| 37|\n",
      "| 7/01/15|               Good| 85|        215|  61|  89| 38| 64|1.77| 14|\n",
      "| 8/01/15|Moderately Polluted|162|        315| 124| 151| 49| 91|2.98|  7|\n",
      "| 9/01/15|               Good| 99|        170|  73|  92| 32| 61|1.57| 28|\n",
      "|10/01/15|Moderately Polluted|191|        294| 146| 174| 54| 94| 2.8| 17|\n",
      "|11/01/15|               Good| 56|         66|  37|  55| 18| 46|0.89| 33|\n",
      "|12/01/15|Moderately Polluted|154|        313| 116| 145| 42| 72|2.18| 12|\n",
      "|13/01/15|   Heavily Polluted|203|        348| 155| 183| 54| 91|2.81|  7|\n",
      "|14/01/15|  Severely Polluted|264|        359| 213| 250| 54|100|3.09|  4|\n",
      "|15/01/15|  Severely Polluted|372|        366| 328| 375| 34|111|4.73|  5|\n",
      "|16/01/15|   Lightly Polluted|138|        240| 111| 119|  9| 41|1.63| 42|\n",
      "|17/01/15|               Good| 83|        131|  59|  71| 29| 57| 1.2| 25|\n",
      "|18/01/15|   Lightly Polluted|112|        207|  68| 109| 29| 51|1.49| 35|\n",
      "|19/01/15|               Good| 66|         75|  42|  73| 25| 58|1.28| 27|\n",
      "|20/01/15|   Lightly Polluted|112|        244|  84| 107| 43| 74|1.99| 11|\n",
      "+--------+-------------------+---+-----------+----+----+---+---+----+---+\n",
      "only showing top 20 rows\n",
      "\n"
     ]
    }
   ],
   "source": [
    "#divide the large data into two parts for the readability:\n",
    "\n",
    "print('meteorological data')\n",
    "dfm=df.drop('Date','AQI Quality','AQI','AQI Ranking','PM2.5','PM10','So2','No2','Co','O3')\n",
    "dfm.show()\n",
    "\n",
    "print('aqi data')\n",
    "dfa=df.drop('Month','Day','T','TM3','Tm4','SLP','H','PP','VV','V','VM','VG','RA','SN','TS','FG')\n",
    "dfa.show()"
   ]
  },
  {
   "cell_type": "code",
   "execution_count": 5,
   "metadata": {},
   "outputs": [
    {
     "name": "stdout",
     "output_type": "stream",
     "text": [
      "total entries:  1096\n",
      "number of valid data for each column\n",
      "+-----+----+----+----+----+----+----+----+----+----+----+----+---+---+---+---+----+-----------+----+-----------+----+----+----+----+----+----+\n",
      "|Month| Day|   T| TM3| Tm4| SLP|   H|  PP|  VV|   V|  VM|  VG| RA| SN| TS| FG|Date|AQI Quality| AQI|AQI Ranking|PM25|PM10| So2| No2|  Co|  O3|\n",
      "+-----+----+----+----+----+----+----+----+----+----+----+----+---+---+---+---+----+-----------+----+-----------+----+----+----+----+----+----+\n",
      "| 1096|1096|1096|1096|1096|1096|1096|1096|1096|1096|1096|1096|295| 44| 91| 83|1095|       1095|1095|       1095|1095|1095|1095|1095|1095|1095|\n",
      "+-----+----+----+----+----+----+----+----+----+----+----+----+---+---+---+---+----+-----------+----+-----------+----+----+----+----+----+----+\n",
      "\n"
     ]
    }
   ],
   "source": [
    "# count values which is not null or NaN: \n",
    "# (inspired by zero323 from stackOverflow: https://stackoverflow.com/questions/33900726/count-number-of-non-nan-entries-in-each-column-of-spark-dataframe-with-pyspark)\n",
    "print('total entries: ',df.count())\n",
    "print('number of valid data for each column')\n",
    "from pyspark.sql.functions import col, count, isnan, lit, sum\n",
    "def count_not_null(c, nan_as_null=False):\n",
    "#     \"\"\"Use conversion between boolean and integer\n",
    "#     - False -> 0\n",
    "#     - True ->  1\n",
    "#     \"\"\"\n",
    "    pred = col(c).isNotNull() & (~isnan(c) if nan_as_null else lit(True))\n",
    "    return sum(pred.cast(\"integer\")).alias(c)\n",
    "df.agg(*[count_not_null(c, True) for c in df.columns]).show()\n"
   ]
  },
  {
   "cell_type": "markdown",
   "metadata": {},
   "source": [
    "## 3. Data preparation"
   ]
  },
  {
   "cell_type": "code",
   "execution_count": 6,
   "metadata": {},
   "outputs": [],
   "source": [
    "#load the modified data:\n",
    "dp1 = pd.read_csv('source/raw-data-modified.csv')\n",
    "df1 = spark.read.csv('source/raw-data-modified.csv',header=True,inferSchema=True)"
   ]
  },
  {
   "cell_type": "code",
   "execution_count": 7,
   "metadata": {},
   "outputs": [
    {
     "name": "stdout",
     "output_type": "stream",
     "text": [
      "+-----+----+----+----+----+---+----+---+---+----+----+---+----+----+----+----+----+-----------+----+-----------+----+----+----+----+----+----+\n",
      "|Month| Day|   T| TM3| Tm4|SLP|   H| PP| VV|   V|  VM| VG|  RA|  SN|  TS|  FG|Date|AQI Quality| AQI|AQI Ranking|PM25|PM10| So2| No2|  Co|  O3|\n",
      "+-----+----+----+----+----+---+----+---+---+----+----+---+----+----+----+----+----+-----------+----+-----------+----+----+----+----+----+----+\n",
      "| 1096|1096|1092|1092|1092|  2|1091|993|695|1092|1092|528|1096|1096|1096|1096|1095|       1095|1095|       1095|1095|1095|1095|1095|1095|1095|\n",
      "+-----+----+----+----+----+---+----+---+---+----+----+---+----+----+----+----+----+-----------+----+-----------+----+----+----+----+----+----+\n",
      "\n"
     ]
    }
   ],
   "source": [
    "# check the data again:\n",
    "df1.agg(*[count_not_null(c, True) for c in df.columns]).show()\n"
   ]
  },
  {
   "cell_type": "code",
   "execution_count": 8,
   "metadata": {},
   "outputs": [
    {
     "data": {
      "text/plain": [
       "<matplotlib.axes._subplots.AxesSubplot at 0x7f89cf553cc0>"
      ]
     },
     "execution_count": 8,
     "metadata": {},
     "output_type": "execute_result"
    }
   ],
   "source": [
    "# outliers of meteorological data\n",
    "dp1.boxplot(column='T')\n",
    "dp1.boxplot(column='TM')\n",
    "dp1.boxplot(column='Tm')\n",
    "dp1.boxplot(column='SLP')\n",
    "dp1.boxplot(column='H')\n",
    "dp1.boxplot(column='PP')\n",
    "dp1.boxplot(column='VV')\n",
    "dp1.boxplot(column='V')\n",
    "dp1.boxplot(column='VM')\n",
    "dp1.boxplot(column='VG')\n",
    "dp1.boxplot(column='RA')\n",
    "dp1.boxplot(column='SN')\n",
    "dp1.boxplot(column='TS')\n",
    "dp1.boxplot(column='FG')"
   ]
  },
  {
   "cell_type": "code",
   "execution_count": 9,
   "metadata": {},
   "outputs": [
    {
     "data": {
      "text/plain": [
       "<matplotlib.axes._subplots.AxesSubplot at 0x7f242d0c8748>"
      ]
     },
     "execution_count": 9,
     "metadata": {},
     "output_type": "execute_result"
    },
    {
     "data": {
      "image/png": "[encoded data removed]",
      "text/plain": [
       "<Figure size 432x288 with 1 Axes>"
      ]
     },
     "metadata": {},
     "output_type": "display_data"
    }
   ],
   "source": [
    "# outliers of aqi data\n",
    "\n",
    "dp1.boxplot(column='AQI Ranking')\n",
    "dp1.boxplot(column='PM25')\n",
    "dp1.boxplot(column='PM10')\n",
    "dp1.boxplot(column='So2')\n",
    "dp1.boxplot(column='No2')\n",
    "dp1.boxplot(column='Co')\n",
    "dp1.boxplot(column='O3')"
   ]
  },
  {
   "cell_type": "markdown",
   "metadata": {},
   "source": [
    "4. Data transformation"
   ]
  },
  {
   "cell_type": "code",
   "execution_count": 9,
   "metadata": {},
   "outputs": [
    {
     "name": "stdout",
     "output_type": "stream",
     "text": [
      "+----+---+----+---+---+---+---+--------+-------------------+---+----+----+---+---+----+---+\n",
      "|   T|  H|   V| RA| SN| TS| FG|    Date|        AQI Quality|AQI|PM25|PM10|So2|No2|  Co| O3|\n",
      "+----+---+----+---+---+---+---+--------+-------------------+---+----+----+---+---+----+---+\n",
      "|-3.2| 25| 9.1|  0|  0|  0|  0| 1/01/15|               Good| 61|  41|  66| 23| 49|1.09| 29|\n",
      "|-1.5| 30| 8.0|  0|  0|  0|  0| 2/01/15|               Good| 69|  48|  78| 30| 58|1.28| 23|\n",
      "|-3.1| 45| 5.4|  0|  0|  0|  0| 3/01/15|Moderately Polluted|194| 148| 193| 66|100|3.24|  8|\n",
      "| 2.2| 37| 5.6|  0|  0|  0|  0| 4/01/15|   Heavily Polluted|217| 173| 224| 74|119|3.67| 12|\n",
      "| 1.7| 22|20.0|  0|  0|  0|  0| 5/01/15|Moderately Polluted|154| 106| 156| 57| 70|2.89| 30|\n",
      "|-1.1| 23|10.7|  0|  0|  0|  0| 6/01/15|               Good| 53|  34|  51| 22| 40| 0.8| 37|\n",
      "|-2.6| 39| 4.3|  0|  0|  0|  0| 7/01/15|               Good| 85|  61|  89| 38| 64|1.77| 14|\n",
      "|-2.5| 50| 7.8|  0|  0|  0|  0| 8/01/15|Moderately Polluted|162| 124| 151| 49| 91|2.98|  7|\n",
      "|-0.9| 32| 9.8|  0|  0|  0|  0| 9/01/15|               Good| 99|  73|  92| 32| 61|1.57| 28|\n",
      "| 4.8| 22|15.0|  0|  0|  0|  0|10/01/15|Moderately Polluted|191| 146| 174| 54| 94| 2.8| 17|\n",
      "| 0.6| 36| 6.5|  0|  0|  0|  0|11/01/15|               Good| 56|  37|  55| 18| 46|0.89| 33|\n",
      "|-2.3| 55| 6.3|  0|  0|  0|  0|12/01/15|Moderately Polluted|154| 116| 145| 42| 72|2.18| 12|\n",
      "|-2.6| 69| 5.6|  0|  0|  0|  0|13/01/15|   Heavily Polluted|203| 155| 183| 54| 91|2.81|  7|\n",
      "|-3.1| 65| 5.7|  0|  1|  0|  1|14/01/15|  Severely Polluted|264| 213| 250| 54|100|3.09|  4|\n",
      "|-3.5| 81| 4.3|  0|  0|  0|  1|15/01/15|  Severely Polluted|372| 328| 375| 34|111|4.73|  5|\n",
      "|-1.4| 28|25.4|  0|  0|  0|  0|16/01/15|   Lightly Polluted|138| 111| 119|  9| 41|1.63| 42|\n",
      "|-1.9| 38| 5.4|  0|  0|  0|  0|17/01/15|               Good| 83|  59|  71| 29| 57| 1.2| 25|\n",
      "| 0.4| 32|18.5|  0|  0|  0|  0|18/01/15|   Lightly Polluted|112|  68| 109| 29| 51|1.49| 35|\n",
      "|-0.9| 40| 6.9|  0|  0|  0|  0|19/01/15|               Good| 66|  42|  73| 25| 58|1.28| 27|\n",
      "|-0.8| 50| 8.3|  0|  0|  0|  0|20/01/15|   Lightly Polluted|112|  84| 107| 43| 74|1.99| 11|\n",
      "+----+---+----+---+---+---+---+--------+-------------------+---+----+----+---+---+----+---+\n",
      "only showing top 20 rows\n",
      "\n",
      "rows: 1090 columns: 16\n"
     ]
    }
   ],
   "source": [
    "# drop columns\n",
    "df1d=df1.drop('TM3','Tm4','VM','VG','SLP','VG','VV','PP','AQI Ranking','Month','Day')\n",
    "# drop empty lines\n",
    "df1m=df1d.dropna()\n",
    "df1m.show()\n",
    "\n",
    "#new shape of the data: \n",
    "print('rows:',(df1m.count()), 'columns:',(len(df1m.columns)))"
   ]
  },
  {
   "cell_type": "code",
   "execution_count": 10,
   "metadata": {},
   "outputs": [
    {
     "name": "stdout",
     "output_type": "stream",
     "text": [
      "+--------+----+---+----+---+---+---+---+----+----+---+---+----+---+---+-------------------+\n",
      "|    Date|   T|  H|   V| RA| SN| TS| FG|PM25|PM10|So2|No2|  Co| O3|AQI|        AQI Quality|\n",
      "+--------+----+---+----+---+---+---+---+----+----+---+---+----+---+---+-------------------+\n",
      "| 1/01/15|-3.2| 25| 9.1|  0|  0|  0|  0|  41|  66| 23| 49|1.09| 29| 61|               Good|\n",
      "| 2/01/15|-1.5| 30| 8.0|  0|  0|  0|  0|  48|  78| 30| 58|1.28| 23| 69|               Good|\n",
      "| 3/01/15|-3.1| 45| 5.4|  0|  0|  0|  0| 148| 193| 66|100|3.24|  8|194|Moderately Polluted|\n",
      "| 4/01/15| 2.2| 37| 5.6|  0|  0|  0|  0| 173| 224| 74|119|3.67| 12|217|   Heavily Polluted|\n",
      "| 5/01/15| 1.7| 22|20.0|  0|  0|  0|  0| 106| 156| 57| 70|2.89| 30|154|Moderately Polluted|\n",
      "| 6/01/15|-1.1| 23|10.7|  0|  0|  0|  0|  34|  51| 22| 40| 0.8| 37| 53|               Good|\n",
      "| 7/01/15|-2.6| 39| 4.3|  0|  0|  0|  0|  61|  89| 38| 64|1.77| 14| 85|               Good|\n",
      "| 8/01/15|-2.5| 50| 7.8|  0|  0|  0|  0| 124| 151| 49| 91|2.98|  7|162|Moderately Polluted|\n",
      "| 9/01/15|-0.9| 32| 9.8|  0|  0|  0|  0|  73|  92| 32| 61|1.57| 28| 99|               Good|\n",
      "|10/01/15| 4.8| 22|15.0|  0|  0|  0|  0| 146| 174| 54| 94| 2.8| 17|191|Moderately Polluted|\n",
      "|11/01/15| 0.6| 36| 6.5|  0|  0|  0|  0|  37|  55| 18| 46|0.89| 33| 56|               Good|\n",
      "|12/01/15|-2.3| 55| 6.3|  0|  0|  0|  0| 116| 145| 42| 72|2.18| 12|154|Moderately Polluted|\n",
      "|13/01/15|-2.6| 69| 5.6|  0|  0|  0|  0| 155| 183| 54| 91|2.81|  7|203|   Heavily Polluted|\n",
      "|14/01/15|-3.1| 65| 5.7|  0|  1|  0|  1| 213| 250| 54|100|3.09|  4|264|  Severely Polluted|\n",
      "|15/01/15|-3.5| 81| 4.3|  0|  0|  0|  1| 328| 375| 34|111|4.73|  5|372|  Severely Polluted|\n",
      "|16/01/15|-1.4| 28|25.4|  0|  0|  0|  0| 111| 119|  9| 41|1.63| 42|138|   Lightly Polluted|\n",
      "|17/01/15|-1.9| 38| 5.4|  0|  0|  0|  0|  59|  71| 29| 57| 1.2| 25| 83|               Good|\n",
      "|18/01/15| 0.4| 32|18.5|  0|  0|  0|  0|  68| 109| 29| 51|1.49| 35|112|   Lightly Polluted|\n",
      "|19/01/15|-0.9| 40| 6.9|  0|  0|  0|  0|  42|  73| 25| 58|1.28| 27| 66|               Good|\n",
      "|20/01/15|-0.8| 50| 8.3|  0|  0|  0|  0|  84| 107| 43| 74|1.99| 11|112|   Lightly Polluted|\n",
      "+--------+----+---+----+---+---+---+---+----+----+---+---+----+---+---+-------------------+\n",
      "only showing top 20 rows\n",
      "\n"
     ]
    }
   ],
   "source": [
    "# the data now is prepared. \n",
    "# I've change the order of the columns for a better understanding:\n",
    "dff=df1m.select('Date','T','H','V','RA','SN','TS','FG','PM25','PM10','So2','No2','Co','O3','AQI','AQI Quality')\n",
    "dff.show()\n",
    "\n",
    "#  this result is exactly same with the one in the source folder.\n",
    "# load the final data for panda in order to achieve furthur interpretation: \n",
    "dp2 = pd.read_csv('source/final-data.csv')\n"
   ]
  },
  {
   "cell_type": "code",
   "execution_count": 11,
   "metadata": {},
   "outputs": [
    {
     "name": "stdout",
     "output_type": "stream",
     "text": [
      "root\n",
      " |-- Date: string (nullable = true)\n",
      " |-- T: double (nullable = true)\n",
      " |-- H: integer (nullable = true)\n",
      " |-- V: double (nullable = true)\n",
      " |-- RA: integer (nullable = true)\n",
      " |-- SN: integer (nullable = true)\n",
      " |-- TS: integer (nullable = true)\n",
      " |-- FG: integer (nullable = true)\n",
      " |-- PM25: integer (nullable = true)\n",
      " |-- PM10: integer (nullable = true)\n",
      " |-- So2: integer (nullable = true)\n",
      " |-- No2: integer (nullable = true)\n",
      " |-- Co: double (nullable = true)\n",
      " |-- O3: integer (nullable = true)\n",
      " |-- AQI: integer (nullable = true)\n",
      " |-- AQI Quality: string (nullable = true)\n",
      "\n"
     ]
    }
   ],
   "source": [
    "dff.printSchema()\n"
   ]
  },
  {
   "cell_type": "markdown",
   "metadata": {},
   "source": [
    "## 6 Build models:"
   ]
  },
  {
   "cell_type": "markdown",
   "metadata": {},
   "source": [
    "### 1. Linear Regression"
   ]
  },
  {
   "cell_type": "code",
   "execution_count": 12,
   "metadata": {},
   "outputs": [],
   "source": [
    "# Linear model:\n",
    "from pyspark.ml.regression import LinearRegression\n",
    "# Import VectorAssembler and Vectors\n",
    "from pyspark.ml.feature import VectorAssembler"
   ]
  },
  {
   "cell_type": "code",
   "execution_count": 13,
   "metadata": {},
   "outputs": [],
   "source": [
    "# Set input and output columns\n",
    "vector_assembler = VectorAssembler(inputCols = ['T', 'H', 'V', 'PM25', 'PM10', 'So2', 'No2', 'Co', 'O3'], outputCol = 'features')"
   ]
  },
  {
   "cell_type": "code",
   "execution_count": 14,
   "metadata": {},
   "outputs": [
    {
     "name": "stdout",
     "output_type": "stream",
     "text": [
      "root\n",
      " |-- Date: string (nullable = true)\n",
      " |-- T: double (nullable = true)\n",
      " |-- H: integer (nullable = true)\n",
      " |-- V: double (nullable = true)\n",
      " |-- RA: integer (nullable = true)\n",
      " |-- SN: integer (nullable = true)\n",
      " |-- TS: integer (nullable = true)\n",
      " |-- FG: integer (nullable = true)\n",
      " |-- PM25: integer (nullable = true)\n",
      " |-- PM10: integer (nullable = true)\n",
      " |-- So2: integer (nullable = true)\n",
      " |-- No2: integer (nullable = true)\n",
      " |-- Co: double (nullable = true)\n",
      " |-- O3: integer (nullable = true)\n",
      " |-- AQI: integer (nullable = true)\n",
      " |-- AQI Quality: string (nullable = true)\n",
      " |-- features: vector (nullable = true)\n",
      "\n"
     ]
    },
    {
     "data": {
      "text/plain": [
       "[Row(Date='1/01/15', T=-3.2, H=25, V=9.1, RA=0, SN=0, TS=0, FG=0, PM25=41, PM10=66, So2=23, No2=49, Co=1.09, O3=29, AQI=61, AQI Quality='Good', features=DenseVector([-3.2, 25.0, 9.1, 41.0, 66.0, 23.0, 49.0, 1.09, 29.0]))]"
      ]
     },
     "execution_count": 14,
     "metadata": {},
     "output_type": "execute_result"
    }
   ],
   "source": [
    "# Now that we've created the assembler variable, let's actually transform the data.\n",
    "vector_output = vector_assembler.transform(dff)\n",
    "\n",
    "# Using print schema, you see that the features output column has been added. \n",
    "vector_output.printSchema()\n",
    "\n",
    "# You can see that the features column is a DenseVector that combines the various features as expected.\n",
    "vector_output.head(1)"
   ]
  },
  {
   "cell_type": "code",
   "execution_count": 15,
   "metadata": {},
   "outputs": [
    {
     "name": "stdout",
     "output_type": "stream",
     "text": [
      "+--------------------+---+\n",
      "|            features|AQI|\n",
      "+--------------------+---+\n",
      "|[-3.2,25.0,9.1,41...| 61|\n",
      "|[-1.5,30.0,8.0,48...| 69|\n",
      "|[-3.1,45.0,5.4,14...|194|\n",
      "|[2.2,37.0,5.6,173...|217|\n",
      "|[1.7,22.0,20.0,10...|154|\n",
      "+--------------------+---+\n",
      "only showing top 5 rows\n",
      "\n"
     ]
    }
   ],
   "source": [
    "# Now all the features have been combined into the vector. Below we only select the features and label.\n",
    "vector_output = vector_output.select(['features', 'AQI'])\n",
    "\n",
    "# You can see that the dataframe now only contains two columns. \n",
    "vector_output.show(5)\n"
   ]
  },
  {
   "cell_type": "code",
   "execution_count": 16,
   "metadata": {
    "scrolled": true
   },
   "outputs": [
    {
     "name": "stdout",
     "output_type": "stream",
     "text": [
      "+-------+-----------------+\n",
      "|summary|              AQI|\n",
      "+-------+-----------------+\n",
      "|  count|              779|\n",
      "|   mean|101.2426187419769|\n",
      "| stddev|68.52531426740778|\n",
      "|    min|               18|\n",
      "|    max|              478|\n",
      "+-------+-----------------+\n",
      "\n",
      "+-------+------------------+\n",
      "|summary|               AQI|\n",
      "+-------+------------------+\n",
      "|  count|               311|\n",
      "|   mean|103.94533762057878|\n",
      "| stddev| 75.48022750575896|\n",
      "|    min|                22|\n",
      "|    max|               468|\n",
      "+-------+------------------+\n",
      "\n"
     ]
    }
   ],
   "source": [
    "# Randomised 70/30 split. \n",
    "lr_train, lr_test = vector_output.randomSplit([0.7, 0.3])\n",
    "# Let's see our training data.\n",
    "lr_train.describe().show()\n",
    "# And our testing data.\n",
    "lr_test.describe().show()"
   ]
  },
  {
   "cell_type": "code",
   "execution_count": 18,
   "metadata": {},
   "outputs": [
    {
     "name": "stdout",
     "output_type": "stream",
     "text": [
      "+----+---+---+----+----+---+---+----+---+\n",
      "|   T|  H|  V|PM25|PM10|So2|No2|  Co| O3|\n",
      "+----+---+---+----+----+---+---+----+---+\n",
      "|-3.2| 25|9.1|  41|  66| 23| 49|1.09| 29|\n",
      "+----+---+---+----+----+---+---+----+---+\n",
      "only showing top 1 row\n",
      "\n",
      "Coefficients: [-0.013642442562842373,0.030149860904932078,0.33708452917775134,0.9185873324968965,0.17319717239641202,-0.08478865271331427,0.13379907233252714,-0.2087361402578763,0.1639039893372267]\n",
      "Intercept: 3.655595449004469\n",
      "\n",
      "RMSE: 10.162146587625719\n",
      "R2: 0.977979524165388\n"
     ]
    }
   ],
   "source": [
    "# Importing the LR package.\n",
    "from pyspark.ml.regression import LinearRegression\n",
    "\n",
    "# Instantiate the instance.\n",
    "lr = LinearRegression(featuresCol='features', labelCol='AQI')\n",
    "# Fit the training data.\n",
    "lr_model = lr.fit(lr_train)\n",
    "dff.select('T', 'H', 'V', 'PM25', 'PM10', 'So2', 'No2', 'Co', 'O3').show(1)\n",
    "# Print the coefficients.\n",
    "print(\"Coefficients: \" + str(lr_model.coefficients))\n",
    "\n",
    "# Print the intercept.\n",
    "print(\"Intercept: \" + str(lr_model.intercept) + \"\\n\")\n",
    "\n",
    "# Summarise the model and print out some evaluation metrics.\n",
    "training_summary = lr_model.summary\n",
    "\n",
    "# Print RMSE. \n",
    "print(\"RMSE: \" + str(training_summary.rootMeanSquaredError))\n",
    "\n",
    "# Print R2.\n",
    "print(\"R2: \" + str(training_summary.r2))"
   ]
  },
  {
   "cell_type": "code",
   "execution_count": 19,
   "metadata": {},
   "outputs": [
    {
     "name": "stdout",
     "output_type": "stream",
     "text": [
      "+-------+-----------------+\n",
      "|summary|              AQI|\n",
      "+-------+-----------------+\n",
      "|  count|              779|\n",
      "|   mean|101.2426187419769|\n",
      "| stddev|68.52531426740778|\n",
      "|    min|               18|\n",
      "|    max|              478|\n",
      "+-------+-----------------+\n",
      "\n"
     ]
    }
   ],
   "source": [
    "lr_train.describe().show()"
   ]
  },
  {
   "cell_type": "code",
   "execution_count": 20,
   "metadata": {},
   "outputs": [
    {
     "name": "stdout",
     "output_type": "stream",
     "text": [
      "RMSE on test data: 10.843650124150185\n",
      "R2 on test data: 0.9792946161100687\n"
     ]
    }
   ],
   "source": [
    "# Let's evaluate the model against the test data.\n",
    "test_results = lr_model.evaluate(lr_test)\n",
    "\n",
    "# And print the RMSE/R2. As expected, our RMSE and R2 are slightly worse when applying the testing set.\n",
    "print(\"RMSE on test data: \" + str(test_results.rootMeanSquaredError))\n",
    "print(\"R2 on test data: \" + str(test_results.r2))"
   ]
  },
  {
   "cell_type": "markdown",
   "metadata": {},
   "source": [
    "#### Linear model with only meteorological factors:"
   ]
  },
  {
   "cell_type": "code",
   "execution_count": 21,
   "metadata": {},
   "outputs": [],
   "source": [
    "vector_assembler1 = VectorAssembler(inputCols = ['T', 'H', 'V'], outputCol = 'mFeatures')\n",
    "vector_output1 = vector_assembler1.transform(dff)\n",
    "vector_output1 = vector_output1.select(['mFeatures', 'AQI'])"
   ]
  },
  {
   "cell_type": "code",
   "execution_count": 22,
   "metadata": {},
   "outputs": [],
   "source": [
    "# Randomised 70/30 split. \n",
    "lr_train1, lr_test1 = vector_output1.randomSplit([0.7, 0.3])\n",
    "\n",
    "# Instantiate the instance.\n",
    "lr1 = LinearRegression(featuresCol='mFeatures', labelCol='AQI')\n",
    "# Fit the training data.\n",
    "lr_model1 = lr1.fit(lr_train1)"
   ]
  },
  {
   "cell_type": "code",
   "execution_count": 23,
   "metadata": {},
   "outputs": [
    {
     "name": "stdout",
     "output_type": "stream",
     "text": [
      "+----+---+---+\n",
      "|   T|  H|  V|\n",
      "+----+---+---+\n",
      "|-3.2| 25|9.1|\n",
      "+----+---+---+\n",
      "only showing top 1 row\n",
      "\n",
      "Coefficients: [-1.29502913059419,0.9569558803049617,-1.9494151738538972]\n",
      "Intercept: 92.22131486574612\n",
      "\n",
      "RMSE: 66.00509041705659\n",
      "R2: 0.153582084759743\n",
      "+-------+------------------+\n",
      "|summary|               AQI|\n",
      "+-------+------------------+\n",
      "|  count|               778|\n",
      "|   mean|104.84832904884318|\n",
      "| stddev| 71.79005662451839|\n",
      "|    min|                18|\n",
      "|    max|               478|\n",
      "+-------+------------------+\n",
      "\n"
     ]
    }
   ],
   "source": [
    "dff.select('T', 'H', 'V').show(1)\n",
    "# Print the coefficients.\n",
    "print(\"Coefficients: \" + str(lr_model1.coefficients))\n",
    "\n",
    "# Print the intercept.\n",
    "print(\"Intercept: \" + str(lr_model1.intercept) + \"\\n\")\n",
    "\n",
    "# Summarise the model and print out some evaluation metrics.\n",
    "training_summary1 = lr_model1.summary\n",
    "\n",
    "# Print RMSE. \n",
    "print(\"RMSE: \" + str(training_summary1.rootMeanSquaredError))\n",
    "\n",
    "# Print R2.\n",
    "print(\"R2: \" + str(training_summary1.r2))\n",
    "lr_train1.describe().show()"
   ]
  },
  {
   "cell_type": "code",
   "execution_count": 25,
   "metadata": {},
   "outputs": [
    {
     "data": {
      "image/png": "[encoded data removed]",
      "text/plain": [
       "<Figure size 1440x1080 with 16 Axes>"
      ]
     },
     "metadata": {},
     "output_type": "display_data"
    }
   ],
   "source": [
    "import matplotlib.pyplot as plt\n",
    "\n",
    "dp2.hist(bins=50, figsize=(20,15))\n",
    "plt.savefig(\"attribute_histogram_plots\")\n",
    "plt.show()"
   ]
  },
  {
   "cell_type": "markdown",
   "metadata": {},
   "source": [
    "### classification\n",
    "    decision tree classifier"
   ]
  },
  {
   "cell_type": "code",
   "execution_count": 26,
   "metadata": {},
   "outputs": [],
   "source": [
    "# load Data\n",
    "df = spark.read.csv('source/final-data.csv',header=True,inferSchema=True)\n",
    "df=df.select('RA','SN','TS','FG','AQI Quality')"
   ]
  },
  {
   "cell_type": "code",
   "execution_count": 27,
   "metadata": {},
   "outputs": [],
   "source": [
    "# Import VectorAssembler and Vectors\n",
    "from pyspark.ml.feature import (VectorAssembler,StringIndexer)"
   ]
  },
  {
   "cell_type": "code",
   "execution_count": 28,
   "metadata": {},
   "outputs": [],
   "source": [
    "# create a string indexer which converts every string into a number.\n",
    "# A number will be assigned to every category in the column.\n",
    "aqi_indexer = StringIndexer(inputCol='AQI Quality',outputCol='label')"
   ]
  },
  {
   "cell_type": "code",
   "execution_count": 29,
   "metadata": {},
   "outputs": [],
   "source": [
    "# use vector assembler to turn all of these columns into one column (named features).\n",
    "assemblerMlr = VectorAssembler(inputCols=['RA','SN','TS','FG'], outputCol=\"features\")"
   ]
  },
  {
   "cell_type": "code",
   "execution_count": 30,
   "metadata": {},
   "outputs": [
    {
     "name": "stdout",
     "output_type": "stream",
     "text": [
      "+---+---+---+---+-------------------+-----+-----------------+\n",
      "| RA| SN| TS| FG|        AQI Quality|label|         features|\n",
      "+---+---+---+---+-------------------+-----+-----------------+\n",
      "|  0|  0|  0|  0|               Good|  0.0|        (4,[],[])|\n",
      "|  0|  0|  0|  0|               Good|  0.0|        (4,[],[])|\n",
      "|  0|  0|  0|  0|Moderately Polluted|  3.0|        (4,[],[])|\n",
      "|  0|  0|  0|  0|   Heavily Polluted|  4.0|        (4,[],[])|\n",
      "|  0|  0|  0|  0|Moderately Polluted|  3.0|        (4,[],[])|\n",
      "|  0|  0|  0|  0|               Good|  0.0|        (4,[],[])|\n",
      "|  0|  0|  0|  0|               Good|  0.0|        (4,[],[])|\n",
      "|  0|  0|  0|  0|Moderately Polluted|  3.0|        (4,[],[])|\n",
      "|  0|  0|  0|  0|               Good|  0.0|        (4,[],[])|\n",
      "|  0|  0|  0|  0|Moderately Polluted|  3.0|        (4,[],[])|\n",
      "|  0|  0|  0|  0|               Good|  0.0|        (4,[],[])|\n",
      "|  0|  0|  0|  0|Moderately Polluted|  3.0|        (4,[],[])|\n",
      "|  0|  0|  0|  0|   Heavily Polluted|  4.0|        (4,[],[])|\n",
      "|  0|  1|  0|  1|   Heavily Polluted|  4.0|[0.0,1.0,0.0,1.0]|\n",
      "|  0|  0|  0|  1|  Severely Polluted|  5.0|    (4,[3],[1.0])|\n",
      "|  0|  0|  0|  0|   Lightly Polluted|  2.0|        (4,[],[])|\n",
      "|  0|  0|  0|  0|               Good|  0.0|        (4,[],[])|\n",
      "|  0|  0|  0|  0|   Lightly Polluted|  2.0|        (4,[],[])|\n",
      "|  0|  0|  0|  0|               Good|  0.0|        (4,[],[])|\n",
      "|  0|  0|  0|  0|   Lightly Polluted|  2.0|        (4,[],[])|\n",
      "+---+---+---+---+-------------------+-----+-----------------+\n",
      "only showing top 20 rows\n",
      "\n"
     ]
    }
   ],
   "source": [
    "from pyspark.ml import Pipeline\n",
    "\n",
    "# Then go through our steps. It's essentially sequential to the above.\n",
    "pipeline = Pipeline(stages=[aqi_indexer,assemblerMlr])\n",
    "\n",
    "# Now that we've got a number of steps, let's apply it to the DataFrame.\n",
    "pipeline_model = pipeline.fit(df)\n",
    "\n",
    "# Incorporate results into a new DataFrame.\n",
    "pipe_df = pipeline_model.transform(df)\n",
    "pipe_df.show()"
   ]
  },
  {
   "cell_type": "code",
   "execution_count": 31,
   "metadata": {},
   "outputs": [
    {
     "name": "stdout",
     "output_type": "stream",
     "text": [
      "+----------+------------+---------+\n",
      "|prediction|indexedLabel| features|\n",
      "+----------+------------+---------+\n",
      "|       0.0|         1.0|(4,[],[])|\n",
      "|       0.0|         1.0|(4,[],[])|\n",
      "|       0.0|         1.0|(4,[],[])|\n",
      "|       0.0|         1.0|(4,[],[])|\n",
      "|       0.0|         1.0|(4,[],[])|\n",
      "+----------+------------+---------+\n",
      "only showing top 5 rows\n",
      "\n",
      "Test Error = 0.598802 \n",
      "DecisionTreeClassificationModel (uid=DecisionTreeClassifier_41928cee032580718067) of depth 4 with 21 nodes\n"
     ]
    }
   ],
   "source": [
    "from pyspark.ml import Pipeline\n",
    "from pyspark.ml.classification import DecisionTreeClassifier\n",
    "from pyspark.ml.feature import StringIndexer, VectorIndexer\n",
    "from pyspark.ml.evaluation import MulticlassClassificationEvaluator\n",
    "\n",
    "# Index labels, adding metadata to the label column.\n",
    "# Fit on whole dataset to include all labels in index.\n",
    "labelIndexer = StringIndexer(inputCol=\"AQI Quality\", outputCol=\"indexedLabel\").fit(pipe_df)\n",
    "# Automatically identify categorical features, and index them.\n",
    "# We specify maxCategories so features with > 4 distinct values are treated as continuous.\n",
    "featureIndexer =\\\n",
    "    VectorIndexer(inputCol=\"features\", outputCol=\"indexedFeatures\", maxCategories=4).fit(pipe_df)\n",
    "\n",
    "# Split the data into training and test sets (30% held out for testing)\n",
    "(trainingData, testData) = pipe_df.randomSplit([0.7, 0.3])\n",
    "\n",
    "# Train a DecisionTree model.\n",
    "dt = DecisionTreeClassifier(labelCol=\"indexedLabel\", featuresCol=\"indexedFeatures\")\n",
    "\n",
    "# Chain indexers and tree in a Pipeline\n",
    "pipeline = Pipeline(stages=[labelIndexer, featureIndexer, dt])\n",
    "\n",
    "# Train model.  This also runs the indexers.\n",
    "model = pipeline.fit(trainingData)\n",
    "\n",
    "# Make predictions.\n",
    "predictions = model.transform(testData)\n",
    "\n",
    "# Select example rows to display.\n",
    "predictions.select(\"prediction\", \"indexedLabel\", \"features\").show(5)\n",
    "\n",
    "# Select (prediction, true label) and compute test error\n",
    "evaluator = MulticlassClassificationEvaluator(\n",
    "    labelCol=\"indexedLabel\", predictionCol=\"prediction\", metricName=\"accuracy\")\n",
    "accuracy = evaluator.evaluate(predictions)\n",
    "print(\"Test Error = %g \" % (1.0 - accuracy))\n",
    "\n",
    "treeModel = model.stages[2]\n",
    "# summary only\n",
    "print(treeModel)"
   ]
  },
  {
   "cell_type": "markdown",
   "metadata": {},
   "source": [
    "#### patterns for Severly polluted AQI Quality"
   ]
  },
  {
   "cell_type": "code",
   "execution_count": 32,
   "metadata": {},
   "outputs": [
    {
     "name": "stdout",
     "output_type": "stream",
     "text": [
      "+-------+-------------------+--------------------+-------------------+--------------------+\n",
      "|summary|                 RA|                  SN|                 TS|                  FG|\n",
      "+-------+-------------------+--------------------+-------------------+--------------------+\n",
      "|  count|                405|                 405|                405|                 405|\n",
      "|   mean|0.30864197530864196|0.024691358024691357|0.09876543209876543|0.024691358024691357|\n",
      "| stddev| 0.4625043566463787| 0.15537471808241782| 0.2987158270610311| 0.15537471808241785|\n",
      "|    min|                  0|                   0|                  0|                   0|\n",
      "|    max|                  1|                   1|                  1|                   1|\n",
      "+-------+-------------------+--------------------+-------------------+--------------------+\n",
      "\n"
     ]
    }
   ],
   "source": [
    "pipe1=pipe_df.filter('label=0')\n",
    "pipe1.select('RA','SN','TS','FG').describe().show()"
   ]
  },
  {
   "cell_type": "code",
   "execution_count": 33,
   "metadata": {},
   "outputs": [
    {
     "name": "stdout",
     "output_type": "stream",
     "text": [
      "+-------+-------------------+-------------------+--------------------+--------------------+\n",
      "|summary|                 RA|                 SN|                  TS|                  FG|\n",
      "+-------+-------------------+-------------------+--------------------+--------------------+\n",
      "|  count|                266|                266|                 266|                 266|\n",
      "|   mean|0.21428571428571427|0.02631578947368421|0.041353383458646614|0.003759398496240...|\n",
      "| stddev| 0.4110993741393795|0.16037443773261875| 0.19948152401280497| 0.06131393394849658|\n",
      "|    min|                  0|                  0|                   0|                   0|\n",
      "|    max|                  1|                  1|                   1|                   1|\n",
      "+-------+-------------------+-------------------+--------------------+--------------------+\n",
      "\n"
     ]
    }
   ],
   "source": [
    "pipe1=pipe_df.filter('label=1')\n",
    "pipe1.select('RA','SN','TS','FG').describe().show()"
   ]
  },
  {
   "cell_type": "code",
   "execution_count": 34,
   "metadata": {},
   "outputs": [
    {
     "name": "stdout",
     "output_type": "stream",
     "text": [
      "+-------+-------------------+-------------------+-------------------+-------------------+\n",
      "|summary|                 RA|                 SN|                 TS|                 FG|\n",
      "+-------+-------------------+-------------------+-------------------+-------------------+\n",
      "|  count|                221|                221|                221|                221|\n",
      "|   mean|0.25339366515837103|0.02262443438914027|0.09954751131221719|0.04072398190045249|\n",
      "| stddev| 0.4359417952763628| 0.1490405348776313| 0.3000754053046972|0.19809873758140187|\n",
      "|    min|                  0|                  0|                  0|                  0|\n",
      "|    max|                  1|                  1|                  1|                  1|\n",
      "+-------+-------------------+-------------------+-------------------+-------------------+\n",
      "\n"
     ]
    }
   ],
   "source": [
    "pipe1=pipe_df.filter('label=2')\n",
    "pipe1.select('RA','SN','TS','FG').describe().show()"
   ]
  },
  {
   "cell_type": "code",
   "execution_count": 35,
   "metadata": {},
   "outputs": [
    {
     "name": "stdout",
     "output_type": "stream",
     "text": [
      "+-------+-------------------+-------------------+-------------------+-------------------+\n",
      "|summary|                 RA|                 SN|                 TS|                 FG|\n",
      "+-------+-------------------+-------------------+-------------------+-------------------+\n",
      "|  count|                103|                103|                103|                103|\n",
      "|   mean|0.36893203883495146|0.06796116504854369| 0.1262135922330097|0.10679611650485436|\n",
      "| stddev| 0.4848749841329817|0.25290996314390796|0.33371385096103495| 0.3103641554760769|\n",
      "|    min|                  0|                  0|                  0|                  0|\n",
      "|    max|                  1|                  1|                  1|                  1|\n",
      "+-------+-------------------+-------------------+-------------------+-------------------+\n",
      "\n"
     ]
    }
   ],
   "source": [
    "pipe1=pipe_df.filter('label=3')\n",
    "pipe1.select('RA','SN','TS','FG').describe().show()"
   ]
  },
  {
   "cell_type": "code",
   "execution_count": 36,
   "metadata": {},
   "outputs": [
    {
     "name": "stdout",
     "output_type": "stream",
     "text": [
      "+-------+-------------------+-------------------+--------------------+-------------------+\n",
      "|summary|                 RA|                 SN|                  TS|                 FG|\n",
      "+-------+-------------------+-------------------+--------------------+-------------------+\n",
      "|  count|                 68|                 68|                  68|                 68|\n",
      "|   mean|0.22058823529411764|0.08823529411764706|0.014705882352941176| 0.4264705882352941|\n",
      "| stddev| 0.4177261916648386| 0.2857456398198083|  0.1212678125181665|0.49824097959612124|\n",
      "|    min|                  0|                  0|                   0|                  0|\n",
      "|    max|                  1|                  1|                   1|                  1|\n",
      "+-------+-------------------+-------------------+--------------------+-------------------+\n",
      "\n"
     ]
    }
   ],
   "source": [
    "pipe1=pipe_df.filter('label=4')\n",
    "pipe1.select('RA','SN','TS','FG').describe().show()"
   ]
  },
  {
   "cell_type": "code",
   "execution_count": 37,
   "metadata": {},
   "outputs": [
    {
     "name": "stdout",
     "output_type": "stream",
     "text": [
      "+-------+---+-------------------+---+-------------------+\n",
      "|summary| RA|                 SN| TS|                 FG|\n",
      "+-------+---+-------------------+---+-------------------+\n",
      "|  count| 27|                 27| 27|                 27|\n",
      "|   mean|0.0|0.18518518518518517|0.0| 0.7037037037037037|\n",
      "| stddev|0.0| 0.3958473906635695|0.0|0.46532162696807516|\n",
      "|    min|  0|                  0|  0|                  0|\n",
      "|    max|  0|                  1|  0|                  1|\n",
      "+-------+---+-------------------+---+-------------------+\n",
      "\n"
     ]
    }
   ],
   "source": [
    "pipe1=pipe_df.filter('label=5')\n",
    "pipe1.select('RA','SN','TS','FG').describe().show()"
   ]
  },
  {
   "cell_type": "markdown",
   "metadata": {},
   "source": [
    "## 8.Interpretation"
   ]
  },
  {
   "cell_type": "code",
   "execution_count": 38,
   "metadata": {},
   "outputs": [],
   "source": [
    "# visualization\n"
   ]
  },
  {
   "cell_type": "code",
   "execution_count": 39,
   "metadata": {},
   "outputs": [
    {
     "data": {
      "image/png": "[encoded data removed]",
      "text/plain": [
       "<Figure size 432x288 with 1 Axes>"
      ]
     },
     "metadata": {},
     "output_type": "display_data"
    }
   ],
   "source": [
    "import numpy as np\n",
    "\n",
    "# Visualising the coefficients. Sort from lowest to highest.\n",
    "beta = np.sort(lr_model.coefficients)\n",
    "\n",
    "# Plot the data.\n",
    "plt.plot(beta)\n",
    "\n",
    "# Add a label to the data.\n",
    "plt.ylabel('Coefficients')\n",
    "\n",
    "# Show the graph. \n",
    "plt.show()"
   ]
  },
  {
   "cell_type": "code",
   "execution_count": null,
   "metadata": {},
   "outputs": [],
   "source": [
    "# aqi-meteorological binary factors"
   ]
  },
  {
   "cell_type": "code",
   "execution_count": 40,
   "metadata": {},
   "outputs": [
    {
     "data": {
      "text/plain": [
       "[Row(AQI Quality='Excellent', count=57),\n",
       " Row(AQI Quality='Lightly Polluted', count=56),\n",
       " Row(AQI Quality='Heavily Polluted', count=15),\n",
       " Row(AQI Quality='Good', count=125),\n",
       " Row(AQI Quality='Moderately Polluted', count=38)]"
      ]
     },
     "execution_count": 40,
     "metadata": {},
     "output_type": "execute_result"
    }
   ],
   "source": [
    "#  count days of factors of different AQI:\n",
    "g1=df.filter('RA=1').groupBy('AQI Quality').count()\n",
    "g2=df.filter('SN=1').groupBy('AQI Quality').count()\n",
    "g3=df.filter('TS=1').groupBy('AQI Quality').count()\n",
    "g4=df.filter('FG=1').groupBy('AQI Quality').count()\n",
    "\n",
    "# print them out\n",
    "g1.head(6)"
   ]
  },
  {
   "cell_type": "code",
   "execution_count": 41,
   "metadata": {},
   "outputs": [
    {
     "data": {
      "text/plain": [
       "[Row(AQI Quality='Excellent', count=7),\n",
       " Row(AQI Quality='Lightly Polluted', count=5),\n",
       " Row(AQI Quality='Heavily Polluted', count=6),\n",
       " Row(AQI Quality='Good', count=10),\n",
       " Row(AQI Quality='Severely Polluted', count=5),\n",
       " Row(AQI Quality='Moderately Polluted', count=7)]"
      ]
     },
     "execution_count": 41,
     "metadata": {},
     "output_type": "execute_result"
    }
   ],
   "source": [
    "g2.head(6)"
   ]
  },
  {
   "cell_type": "code",
   "execution_count": 42,
   "metadata": {},
   "outputs": [
    {
     "data": {
      "text/plain": [
       "[Row(AQI Quality='Excellent', count=11),\n",
       " Row(AQI Quality='Lightly Polluted', count=22),\n",
       " Row(AQI Quality='Heavily Polluted', count=1),\n",
       " Row(AQI Quality='Good', count=40),\n",
       " Row(AQI Quality='Moderately Polluted', count=13)]"
      ]
     },
     "execution_count": 42,
     "metadata": {},
     "output_type": "execute_result"
    }
   ],
   "source": [
    "g3.head(6)"
   ]
  },
  {
   "cell_type": "code",
   "execution_count": 43,
   "metadata": {},
   "outputs": [
    {
     "data": {
      "text/plain": [
       "[Row(AQI Quality='Excellent', count=1),\n",
       " Row(AQI Quality='Lightly Polluted', count=9),\n",
       " Row(AQI Quality='Heavily Polluted', count=29),\n",
       " Row(AQI Quality='Good', count=10),\n",
       " Row(AQI Quality='Severely Polluted', count=19),\n",
       " Row(AQI Quality='Moderately Polluted', count=11)]"
      ]
     },
     "execution_count": 43,
     "metadata": {},
     "output_type": "execute_result"
    }
   ],
   "source": [
    "g4.head(6)"
   ]
  },
  {
   "cell_type": "code",
   "execution_count": 44,
   "metadata": {},
   "outputs": [
    {
     "data": {
      "text/html": [
       "<div>\n",
       "<style scoped>\n",
       "    .dataframe tbody tr th:only-of-type {\n",
       "        vertical-align: middle;\n",
       "    }\n",
       "\n",
       "    .dataframe tbody tr th {\n",
       "        vertical-align: top;\n",
       "    }\n",
       "\n",
       "    .dataframe thead th {\n",
       "        text-align: right;\n",
       "    }\n",
       "</style>\n",
       "<table border=\"1\" class=\"dataframe\">\n",
       "  <thead>\n",
       "    <tr style=\"text-align: right;\">\n",
       "      <th></th>\n",
       "      <th>mtype</th>\n",
       "      <th>Excellent</th>\n",
       "      <th>Good</th>\n",
       "      <th>Light</th>\n",
       "      <th>Moderate</th>\n",
       "      <th>Heavy</th>\n",
       "      <th>Severe</th>\n",
       "    </tr>\n",
       "  </thead>\n",
       "  <tbody>\n",
       "    <tr>\n",
       "      <th>0</th>\n",
       "      <td>RA</td>\n",
       "      <td>57</td>\n",
       "      <td>125</td>\n",
       "      <td>56</td>\n",
       "      <td>38</td>\n",
       "      <td>15</td>\n",
       "      <td>0</td>\n",
       "    </tr>\n",
       "    <tr>\n",
       "      <th>1</th>\n",
       "      <td>SN</td>\n",
       "      <td>7</td>\n",
       "      <td>10</td>\n",
       "      <td>5</td>\n",
       "      <td>7</td>\n",
       "      <td>6</td>\n",
       "      <td>5</td>\n",
       "    </tr>\n",
       "    <tr>\n",
       "      <th>2</th>\n",
       "      <td>TS</td>\n",
       "      <td>11</td>\n",
       "      <td>40</td>\n",
       "      <td>22</td>\n",
       "      <td>13</td>\n",
       "      <td>1</td>\n",
       "      <td>0</td>\n",
       "    </tr>\n",
       "    <tr>\n",
       "      <th>3</th>\n",
       "      <td>FG</td>\n",
       "      <td>1</td>\n",
       "      <td>10</td>\n",
       "      <td>9</td>\n",
       "      <td>11</td>\n",
       "      <td>29</td>\n",
       "      <td>19</td>\n",
       "    </tr>\n",
       "  </tbody>\n",
       "</table>\n",
       "</div>"
      ],
      "text/plain": [
       "  mtype  Excellent  Good  Light  Moderate  Heavy  Severe\n",
       "0    RA         57   125     56        38     15       0\n",
       "1    SN          7    10      5         7      6       5\n",
       "2    TS         11    40     22        13      1       0\n",
       "3    FG          1    10      9        11     29      19"
      ]
     },
     "execution_count": 44,
     "metadata": {},
     "output_type": "execute_result"
    }
   ],
   "source": [
    "mdata = {'mtype': ['RA', 'SN', 'TS', 'FG'],\n",
    "        'Excellent': [57, 7, 11, 1],\n",
    "        'Good': [125, 10, 40, 10],\n",
    "        'Light': [56, 5, 22, 9],\n",
    "        'Moderate': [38, 7, 13, 11],\n",
    "        'Heavy': [15, 6, 1, 29],\n",
    "        'Severe': [0, 5, 0, 19]}\n",
    "dfm = pd.DataFrame(mdata, columns = ['mtype', 'Excellent', 'Good', 'Light', 'Moderate', 'Heavy', 'Severe'])\n",
    "dfm"
   ]
  },
  {
   "cell_type": "code",
   "execution_count": 45,
   "metadata": {},
   "outputs": [
    {
     "data": {
      "image/png": "[encoded data removed]",
      "text/plain": [
       "<Figure size 720x360 with 1 Axes>"
      ]
     },
     "metadata": {},
     "output_type": "display_data"
    }
   ],
   "source": [
    "# Setting the positions and width for the bars\n",
    "pos = list(range(len(dfm['Excellent']))) \n",
    "width = 0.15 \n",
    "    \n",
    "# Plotting the bars\n",
    "fig, ax = plt.subplots(figsize=(10,5))\n",
    "\n",
    "# Create a bar with Excellent data,\n",
    "# in position pos,\n",
    "plt.bar(pos, \n",
    "        dfm['Excellent'], \n",
    "        # of width\n",
    "        width, \n",
    "        # with alpha 0.5\n",
    "        alpha=0.5, \n",
    "        # with color\n",
    "        color='#58D68D', \n",
    "        label=dfm['mtype'][0]) \n",
    "\n",
    "# Create a bar with Good data,\n",
    "# in position pos,\n",
    "plt.bar([p + width for p in pos], \n",
    "        dfm['Good'], \n",
    "        # of width\n",
    "        width, \n",
    "        # with alpha 0.5\n",
    "        alpha=0.5, \n",
    "        # with color\n",
    "        color='#F4D03F', \n",
    "        label=dfm['mtype'][0]) \n",
    "\n",
    "# Create a bar with Light data,\n",
    "# in position pos,\n",
    "plt.bar([p + width*2 for p in pos], \n",
    "        dfm['Light'], \n",
    "        # of width\n",
    "        width, \n",
    "        # with alpha 0.5\n",
    "        alpha=0.5, \n",
    "        # with color\n",
    "        color='#F5B041',\n",
    "        label=dfm['mtype'][1]) \n",
    "\n",
    "\n",
    "# Create a bar with Moderate data,\n",
    "# in position pos,\n",
    "plt.bar([p + width*3 for p in pos], \n",
    "        dfm['Moderate'], \n",
    "        # of width\n",
    "        width, \n",
    "        # with alpha 0.5\n",
    "        alpha=0.5, \n",
    "        # with color\n",
    "        color='#DC7633', \n",
    "        label=dfm['mtype'][1]) \n",
    "\n",
    "# Create a bar with Heavy data,\n",
    "# in position pos,\n",
    "plt.bar([p + width*4 for p in pos], \n",
    "        dfm['Heavy'], \n",
    "        # of width\n",
    "        width, \n",
    "        # with alpha 0.5\n",
    "        alpha=0.5, \n",
    "        # with color\n",
    "        color='#EC7063', \n",
    "        # with label the first value in first_name\n",
    "        label=dfm['mtype'][2]) \n",
    "\n",
    "\n",
    "# Create a bar with Severe data,\n",
    "# in position pos,\n",
    "plt.bar([p + width*5 for p in pos], \n",
    "        dfm['Severe'], \n",
    "        # of width\n",
    "        width, \n",
    "        # with alpha 0.5\n",
    "        alpha=0.5, \n",
    "        # with color\n",
    "        color='#A569BD', \n",
    "        # with label the first value in first_name\n",
    "        label=dfm['mtype'][2]) \n",
    "\n",
    "\n",
    "# Set the y axis label\n",
    "ax.set_ylabel('Days')\n",
    "\n",
    "# Set the chart's title\n",
    "ax.set_title('AQI distribution for each meteorological factor')\n",
    "\n",
    "# Set the position of the x ticks\n",
    "ax.set_xticks([p + 1.5 * width for p in pos])\n",
    "\n",
    "# Set the labels for the x ticks\n",
    "ax.set_xticklabels(dfm['mtype'])\n",
    "\n",
    "# Setting the x-axis and y-axis limits\n",
    "plt.xlim(min(pos)-width, max(pos)+width*6)\n",
    "plt.ylim([0, max(dfm['Excellent']+ dfm['Good']+ dfm['Light']+ dfm['Moderate']+ dfm['Heavy']+ dfm['Severe'])] )\n",
    "\n",
    "# Adding the legend and showing the plot\n",
    "plt.legend(['Excellent', 'Good', 'Light','Moderate','Heavy','Severe'], loc='upper right')\n",
    "plt.grid()\n",
    "plt.show()"
   ]
  }
 ],
 "metadata": {
  "kernelspec": {
   "display_name": "Python 3",
   "language": "python",
   "name": "python3"
  },
  "language_info": {
   "codemirror_mode": {
    "name": "ipython",
    "version": 3
   },
   "file_extension": ".py",
   "mimetype": "text/x-python",
   "name": "python",
   "nbconvert_exporter": "python",
   "pygments_lexer": "ipython3",
   "version": "3.6.5"
  }
 },
 "nbformat": 4,
 "nbformat_minor": 2
}
